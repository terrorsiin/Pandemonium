{
 "cells": [
  {
   "cell_type": "markdown",
   "metadata": {},
   "source": [
    "# K 게임회사에 입사하신 것을 축하드립니다.\n",
    "\n",
    "K 게임사는 한창 A 게임을 개발하고 있습니다.<br>\n",
    "여러분은 개발자가 되어 G 게임의 개발을 Python을 통해 수행하게 될 것입니다.<br>\n",
    "신입인 여러분에게 그리 어려운 과제는 주어지지 않겠지만 열심히 수행해봅시다."
   ]
  },
  {
   "cell_type": "markdown",
   "metadata": {},
   "source": [
    "\n",
    "## 1. G게임의 아이템을 관리하는 코드를 작성하고자 합니다. \n",
    "\n",
    "### 1-1.빈칸을 채워서 아래의 코드를 컴프리헨션으로 구현하시오.<br>\n",
    "   - 컴프리헨션은 원하는 구성요소를 가진 구문을 함축시켜 표현하는 기능입니다."
   ]
  },
  {
   "cell_type": "code",
   "execution_count": 114,
   "metadata": {},
   "outputs": [
    {
     "name": "stdout",
     "output_type": "stream",
     "text": [
      "1번 아이템 : 장난감 칼\n",
      "2번 아이템 : 후줄근한 셔츠\n",
      "3번 아이템 : 달빛 장화\n",
      "4번 아이템 : 생일축하 선물\n",
      "\n",
      "{'1번 아이템': '장난감 칼', '2번 아이템': '후줄근한 셔츠', '3번 아이템': '달빛 장화', '4번 아이템': '생일축하 선물'}\n"
     ]
    }
   ],
   "source": [
    "items = ['장난감 칼', '후줄근한 셔츠', '달빛 장화', '생일축하 선물']\n",
    "for number, iname in enumerate(items):\n",
    "\tprint('{}번 아이템 : {}'.format(number+1, iname))\n",
    "    \n",
    "print()\n",
    "    \n",
    "items = ['장난감 칼', '후줄근한 셔츠', '달빛 장화', '생일축하 선물']\n",
    "items_dic = {\n",
    "    '{}번 아이템'.format(number+1) : iname for number, iname in enumerate(items)\n",
    "}\n",
    "print(items_dic)"
   ]
  },
  {
   "cell_type": "markdown",
   "metadata": {},
   "source": [
    "### 1-2. A 게임에서 아이템을 아이템코드와 아이템명을 묶어서 관리하려고 합니다.\n",
    "   - 묶어서 관리시 표현은 (아이템코드, 아이템명)으로 해야합니다."
   ]
  },
  {
   "cell_type": "code",
   "execution_count": 117,
   "metadata": {},
   "outputs": [
    {
     "name": "stdout",
     "output_type": "stream",
     "text": [
      "0x45513 장난감 칼\n",
      "0x92642 후줄근한 셔츠\n",
      "0x88316 달빛 장화\n",
      "0x64114 생일축하 선물\n",
      "\n",
      "{'0x45513': '장난감 칼', '0x92642': '후줄근한 셔츠', '0x88316': '달빛 장화', '0x64114': '생일축하 선물'}\n"
     ]
    }
   ],
   "source": [
    "itemcodes = ['0x45513', '0x92642', '0x88316', '0x64114']\n",
    "for a, b in zip(itemcodes, items):\n",
    "    print(a, b)\n",
    "\n",
    "print()\n",
    "\n",
    "itemcs_dic = {\n",
    "    itemcodes:items for itemcodes, items in zip(itemcodes, items)\n",
    "}\n",
    "print(itemcs_dic)\n"
   ]
  },
  {
   "cell_type": "markdown",
   "metadata": {},
   "source": [
    "## 2. G게임의 대전 시스템과 밸런스를 간단하게 구현하고자 합니다.\n",
    "### 2-1. 아래의 실행결과를 참조하여 class 구문을 이용하여 유저간 대전 콘텐츠 결과를 출력하세요.\n",
    "   - 유저 정보는 userid, level, hp, mp, atk, arm이 있으며, 모두 포맷팅을 활용해서 출력하세요.\n",
    "   - 단, '운석 낙하' 마법은 인스턴스로 메소드 호출이 되도록 해야합니다."
   ]
  },
  {
   "cell_type": "code",
   "execution_count": 57,
   "metadata": {
    "scrolled": true
   },
   "outputs": [
    {
     "name": "stdout",
     "output_type": "stream",
     "text": [
      "닉네임 : 간달프 / 레벨 : 58 / 체력 : 400 / 마력 : 1255 / 공격력 : 105 / 방어력 : 50\n",
      "닉네임 : 사우론 / 레벨 : 99 / 체력 : 390 / 마력 : 2648 / 공격력 : 200 / 방어력 : 10\n",
      "간달프와 사우론의 대전이 시작되었습니다!\n",
      "간달프가 스킬을 시전합니다. \n",
      "운석 낙하\n",
      "사우론이 390만큼의 피해를 입었습니다\n",
      "사우론의 패배, 간달프가 승리하였습니다!\n",
      "간달프의 레벨이 59로 올랐다!\n"
     ]
    }
   ],
   "source": [
    "class User:\n",
    "    def __init__(self, uid, lv, hp, mp, atk, arm):\n",
    "        self.uid = uid\n",
    "        self.lv = lv\n",
    "        self.hp = hp\n",
    "        self.mp = mp\n",
    "        self.atk = atk\n",
    "        self.arm = arm\n",
    "        \n",
    "    def magic(self):\n",
    "        print('운석 낙하')\n",
    "        \n",
    "        \n",
    "x = User(uid='간달프', lv=58, hp=400, mp=1255, atk=105, arm=50)\n",
    "y = User(uid='사우론', lv=99, hp=390, mp=2648, atk=200, arm=10)\n",
    "print('닉네임 : {} / 레벨 : {} / 체력 : {} / 마력 : {} / 공격력 : {} / 방어력 : {}'.format(x.uid, x.lv, x.hp, x.mp, x.atk, x.arm))\n",
    "\n",
    "print('닉네임 : {} / 레벨 : {} / 체력 : {} / 마력 : {} / 공격력 : {} / 방어력 : {}'.format(y.uid, y.lv, y.hp, y.mp, y.atk, y.arm))\n",
    "print('{}와 {}의 대전이 시작되었습니다!'.format(x.uid, y.uid))\n",
    "print('{}가 스킬을 시전합니다. '.format(x.uid))\n",
    "x.magic()\n",
    "print('{}이 {}만큼의 피해를 입었습니다'.format(y.uid, y.hp))\n",
    "print('{}의 패배, {}가 승리하였습니다!'.format(y.uid, x.uid))\n",
    "print('{}의 레벨이 {}로 올랐다!'.format(x.uid,x.lv+1))"
   ]
  },
  {
   "cell_type": "markdown",
   "metadata": {},
   "source": [
    "### 2-2. 어떤 유저 캐릭터의 스킬은 가지고 있는 공격력의 * 0.45 + (레벨*20)의 피해를 입힙니다.<br>\n",
    "해당 내용을 적용해 다른 적에게 적용될 수 있는 피해량을 구하세요.<br>\n",
    "   - 맵을 통해 임의의 정수를 직접 입력받도록 구문을 수정하세요.(단, 공격력과 레벨은 반드시 가질 것)\n",
    "   - 인수값은 ','으로 구분해야 합니다."
   ]
  },
  {
   "cell_type": "code",
   "execution_count": 110,
   "metadata": {
    "scrolled": true
   },
   "outputs": [
    {
     "name": "stdout",
     "output_type": "stream",
     "text": [
      "10, 200\n",
      "유저의 스킬 사용 : 290.0의 피해량\n"
     ]
    }
   ],
   "source": [
    "class User:\n",
    "    def __init__(self, lv, atk):\n",
    "        self.lv = lv\n",
    "        self.atk = atk\n",
    "    def skill(self):\n",
    "        print('유저의 스킬 사용 : {}의 피해량'.format((self.lv*20)+self.atk*0.45))\n",
    "        \n",
    "              \n",
    "lv, atk = map(int, input().split(','))\n",
    "x = User(lv=lv, atk=atk)\n",
    "x.skill()"
   ]
  }
 ],
 "metadata": {
  "kernelspec": {
   "display_name": "Python 3",
   "language": "python",
   "name": "python3"
  },
  "language_info": {
   "codemirror_mode": {
    "name": "ipython",
    "version": 3
   },
   "file_extension": ".py",
   "mimetype": "text/x-python",
   "name": "python",
   "nbconvert_exporter": "python",
   "pygments_lexer": "ipython3",
   "version": "3.7.0"
  }
 },
 "nbformat": 4,
 "nbformat_minor": 2
}
